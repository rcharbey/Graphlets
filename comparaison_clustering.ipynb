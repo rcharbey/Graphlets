{
 "cells": [
  {
   "cell_type": "code",
   "execution_count": 1,
   "metadata": {
    "collapsed": false
   },
   "outputs": [],
   "source": [
    "import csv\n",
    "import os\n",
    "import scipy.special\n",
    "from numpy import array"
   ]
  },
  {
   "cell_type": "code",
   "execution_count": 2,
   "metadata": {
    "collapsed": false
   },
   "outputs": [
    {
     "ename": "IndentationError",
     "evalue": "expected an indented block (<ipython-input-2-0f119bff66ed>, line 16)",
     "output_type": "error",
     "traceback": [
      "\u001b[1;36m  File \u001b[1;32m\"<ipython-input-2-0f119bff66ed>\"\u001b[1;36m, line \u001b[1;32m16\u001b[0m\n\u001b[1;33m    def check_pair(c, ego1, ego2):\u001b[0m\n\u001b[1;37m                                  ^\u001b[0m\n\u001b[1;31mIndentationError\u001b[0m\u001b[1;31m:\u001b[0m expected an indented block\n"
     ]
    }
   ],
   "source": [
    "def clustering_to_dict(directory):\n",
    "    with open('../Results/%s/typo_par_ego.csv' % directory, 'r') as to_read:\n",
    "        csv_r = csv.reader(to_read, delimiter = ';')\n",
    "        csv_r.next()\n",
    "        typo_par_ego = {}\n",
    "        for line in csv_r:\n",
    "            typo_par_ego[line[0]] = int(line[k-1])\n",
    "    return typo_par_ego\n",
    "\n",
    "def Yaveroglu_clustering_to_dict(directory):\n",
    "    for i in range(5):\n",
    "        with open('../Results/Yaveroglu/%s/egos_classe_%i.csv' % (directory, i)):\n",
    "            \n",
    "\n",
    "\n",
    "def check_pair(c, ego1, ego2):\n",
    "    return c[ego1] == c[ego2]"
   ]
  },
  {
   "cell_type": "code",
   "execution_count": 3,
   "metadata": {
    "collapsed": false
   },
   "outputs": [],
   "source": [
    "def prox_clusters(dir1, dir2, k):\n",
    "    typo_dir1 = clustering_to_dict(dir1)\n",
    "    typo_dir2 = clustering_to_dict(dir2)\n",
    "\n",
    "    a = d = 0\n",
    "    n_parmis_deux = float(scipy.special.binom(len(typo_dir1), 2))\n",
    "\n",
    "    for ego1 in typo_dir1:\n",
    "        for ego2 in typo_dir1:\n",
    "            if ego2 > ego1:\n",
    "                if check_pair(typo_dir1, ego1, ego2):\n",
    "                    if check_pair(typo_dir2, ego1, ego2):\n",
    "                        a += 1\n",
    "                else:\n",
    "                    if not check_pair(typo_dir2, ego1, ego2):\n",
    "                        d += 1   \n",
    "\n",
    "    return round((a+d)/n_parmis_deux,3)"
   ]
  },
  {
   "cell_type": "code",
   "execution_count": 5,
   "metadata": {
    "collapsed": false
   },
   "outputs": [
    {
     "ename": "IndexError",
     "evalue": "list index out of range",
     "output_type": "error",
     "traceback": [
      "\u001b[1;31m---------------------------------------------------------------------------\u001b[0m",
      "\u001b[1;31mIndexError\u001b[0m                                Traceback (most recent call last)",
      "\u001b[1;32m<ipython-input-5-f5a99287aadb>\u001b[0m in \u001b[0;36m<module>\u001b[1;34m()\u001b[0m\n\u001b[0;32m      7\u001b[0m \u001b[1;33m\u001b[0m\u001b[0m\n\u001b[0;32m      8\u001b[0m     \u001b[1;32mfor\u001b[0m \u001b[0mk\u001b[0m \u001b[1;32min\u001b[0m \u001b[0mrange\u001b[0m\u001b[1;33m(\u001b[0m\u001b[1;36m2\u001b[0m\u001b[1;33m,\u001b[0m\u001b[1;36m11\u001b[0m\u001b[1;33m)\u001b[0m\u001b[1;33m:\u001b[0m\u001b[1;33m\u001b[0m\u001b[0m\n\u001b[1;32m----> 9\u001b[1;33m         \u001b[0mresult\u001b[0m \u001b[1;33m=\u001b[0m \u001b[0mprox_clusters\u001b[0m\u001b[1;33m(\u001b[0m\u001b[0mdir1\u001b[0m\u001b[1;33m,\u001b[0m \u001b[0mdir2\u001b[0m\u001b[1;33m,\u001b[0m \u001b[0mk\u001b[0m\u001b[1;33m)\u001b[0m\u001b[1;33m\u001b[0m\u001b[0m\n\u001b[0m\u001b[0;32m     10\u001b[0m         \u001b[0mdict_all_values\u001b[0m\u001b[1;33m[\u001b[0m\u001b[0mdir2\u001b[0m\u001b[1;33m]\u001b[0m\u001b[1;33m.\u001b[0m\u001b[0mappend\u001b[0m\u001b[1;33m(\u001b[0m\u001b[0mresult\u001b[0m\u001b[1;33m)\u001b[0m\u001b[1;33m\u001b[0m\u001b[0m\n",
      "\u001b[1;32m<ipython-input-4-aab75b891523>\u001b[0m in \u001b[0;36mprox_clusters\u001b[1;34m(dir1, dir2, k)\u001b[0m\n\u001b[0;32m      1\u001b[0m \u001b[1;32mdef\u001b[0m \u001b[0mprox_clusters\u001b[0m\u001b[1;33m(\u001b[0m\u001b[0mdir1\u001b[0m\u001b[1;33m,\u001b[0m \u001b[0mdir2\u001b[0m\u001b[1;33m,\u001b[0m \u001b[0mk\u001b[0m\u001b[1;33m)\u001b[0m\u001b[1;33m:\u001b[0m\u001b[1;33m\u001b[0m\u001b[0m\n\u001b[1;32m----> 2\u001b[1;33m     \u001b[0mtypo_dir1\u001b[0m \u001b[1;33m=\u001b[0m \u001b[0mclustering_to_dict\u001b[0m\u001b[1;33m(\u001b[0m\u001b[0mdir1\u001b[0m\u001b[1;33m)\u001b[0m\u001b[1;33m\u001b[0m\u001b[0m\n\u001b[0m\u001b[0;32m      3\u001b[0m     \u001b[0mtypo_dir2\u001b[0m \u001b[1;33m=\u001b[0m \u001b[0mclustering_to_dict\u001b[0m\u001b[1;33m(\u001b[0m\u001b[0mdir2\u001b[0m\u001b[1;33m)\u001b[0m\u001b[1;33m\u001b[0m\u001b[0m\n\u001b[0;32m      4\u001b[0m \u001b[1;33m\u001b[0m\u001b[0m\n\u001b[0;32m      5\u001b[0m     \u001b[0ma\u001b[0m \u001b[1;33m=\u001b[0m \u001b[0md\u001b[0m \u001b[1;33m=\u001b[0m \u001b[1;36m0\u001b[0m\u001b[1;33m\u001b[0m\u001b[0m\n",
      "\u001b[1;32m<ipython-input-3-07618c20d6eb>\u001b[0m in \u001b[0;36mclustering_to_dict\u001b[1;34m(directory)\u001b[0m\n\u001b[0;32m      5\u001b[0m         \u001b[0mtypo_par_ego\u001b[0m \u001b[1;33m=\u001b[0m \u001b[1;33m{\u001b[0m\u001b[1;33m}\u001b[0m\u001b[1;33m\u001b[0m\u001b[0m\n\u001b[0;32m      6\u001b[0m         \u001b[1;32mfor\u001b[0m \u001b[0mline\u001b[0m \u001b[1;32min\u001b[0m \u001b[0mcsv_r\u001b[0m\u001b[1;33m:\u001b[0m\u001b[1;33m\u001b[0m\u001b[0m\n\u001b[1;32m----> 7\u001b[1;33m             \u001b[0mtypo_par_ego\u001b[0m\u001b[1;33m[\u001b[0m\u001b[0mline\u001b[0m\u001b[1;33m[\u001b[0m\u001b[1;36m0\u001b[0m\u001b[1;33m]\u001b[0m\u001b[1;33m]\u001b[0m \u001b[1;33m=\u001b[0m \u001b[0mint\u001b[0m\u001b[1;33m(\u001b[0m\u001b[0mline\u001b[0m\u001b[1;33m[\u001b[0m\u001b[0mk\u001b[0m\u001b[1;33m-\u001b[0m\u001b[1;36m1\u001b[0m\u001b[1;33m]\u001b[0m\u001b[1;33m)\u001b[0m\u001b[1;33m\u001b[0m\u001b[0m\n\u001b[0m\u001b[0;32m      8\u001b[0m     \u001b[1;32mreturn\u001b[0m \u001b[0mtypo_par_ego\u001b[0m\u001b[1;33m\u001b[0m\u001b[0m\n\u001b[0;32m      9\u001b[0m \u001b[1;33m\u001b[0m\u001b[0m\n",
      "\u001b[1;31mIndexError\u001b[0m: list index out of range"
     ]
    }
   ],
   "source": [
    "dir1 = 'facebook_k5'\n",
    "list_dir2 = ['facebook_k4']\n",
    "\n",
    "dict_all_values = {}\n",
    "for dir2 in list_dir2:\n",
    "    dict_all_values[dir2] = []\n",
    "    \n",
    "    for k in range(2,11):\n",
    "        result = prox_clusters(dir1, dir2, k)\n",
    "        dict_all_values[dir2].append(result)"
   ]
  },
  {
   "cell_type": "code",
   "execution_count": null,
   "metadata": {
    "collapsed": false
   },
   "outputs": [],
   "source": [
    "dir1 = 'gcd11'\n",
    "dir2 = 'gcd73'\n",
    "\n",
    "for k in range(2, 11):\n",
    "    print prox_clusters(dir1, dir2, k)"
   ]
  },
  {
   "cell_type": "code",
   "execution_count": 39,
   "metadata": {
    "collapsed": false
   },
   "outputs": [],
   "source": [
    "size_by_ego = {}\n",
    "with open('../Data/size.csv', 'r') as to_read:\n",
    "    csv_r = csv.reader(to_read, delimiter = ';')\n",
    "    csv_r.next()\n",
    "    for line in csv_r:\n",
    "        size_by_ego[line[0]] = int(line[1])\n",
    "        \n",
    "def prox_clusters_by_size_max(dir1, dir2, k, list_sizes_max):\n",
    "    typo_dir1 = clustering_to_dict(dir1)\n",
    "    typo_dir2 = clustering_to_dict(dir2)\n",
    "\n",
    "    a = d = 0\n",
    "\n",
    "    nb_pairs_by_size_max = {x : 0 for x in list_sizes_max}\n",
    "    aggreement_by_size_max = {x : 0 for x in list_sizes_max}\n",
    "    result_by_size_max = {}\n",
    "    \n",
    "    for ego1 in typo_dir1:\n",
    "        for ego2 in typo_dir1:\n",
    "            if ego2 < ego1:\n",
    "                continue\n",
    "            this_pair_size_max = max(size_by_ego[ego2], size_by_ego[ego1])\n",
    "            #this_par_size_min = min(size_by_ego[ego2], size_by_ego[ego1])\n",
    "            aggreement = check_pair(typo_dir1, ego1, ego2) == check_pair(typo_dir2, ego1, ego2)\n",
    "                    \n",
    "            for size_max in list_sizes_max:\n",
    "                #size_min = 0 if size_max == 50 else list_sizes_max[list_sizes_max.index(size_max) - 1]\n",
    "                #if size_min > this_par_size_min:\n",
    "                #    continue\n",
    "                if size_max > this_pair_size_max:\n",
    "                    nb_pairs_by_size_max[size_max] += 1\n",
    "                    if aggreement:\n",
    "                        aggreement_by_size_max[size_max] += 1\n",
    "                        \n",
    "    print nb_pairs_by_size_max\n",
    "         \n",
    "    return {size_max : round(aggreement_by_size_max[size_max] / float(nb_pairs_by_size_max[size_max]), 3) \\\n",
    "           for size_max in list_sizes_max}"
   ]
  },
  {
   "cell_type": "code",
   "execution_count": 46,
   "metadata": {
    "collapsed": false
   },
   "outputs": [
    {
     "name": "stdout",
     "output_type": "stream",
     "text": [
      "3\n",
      "\n",
      "4\n",
      "\n",
      "5\n",
      "\n",
      "6\n",
      "\n",
      "7\n",
      "\n"
     ]
    }
   ],
   "source": [
    "dir1 = 'facebook_k5'\n",
    "dir2 = 'facebook_k4'\n",
    "list_sizes_max = [50,70,90,110,130,150]\n",
    "\n",
    "res = []\n",
    "for k in range(3, 8):\n",
    "    print k\n",
    "    res.append([])\n",
    "    for size_max in list_sizes_max:\n",
    "        result = prox_clusters(dir1+'_smax%s' % size_max,\n",
    "                               dir2+'_smax%s' % size_max, \n",
    "                               k)\n",
    "        res[-1].append(result)\n",
    "    print"
   ]
  },
  {
   "cell_type": "code",
   "execution_count": 48,
   "metadata": {
    "collapsed": false
   },
   "outputs": [],
   "source": [
    "import matplotlib.pyplot as plt\n",
    "fig = plt.figure()\n",
    "ax = fig.add_subplot(111)\n",
    "plt.axis([50, 150, 0.70, 0.90])\n",
    "i = 2\n",
    "for line in res:\n",
    "    i += 1\n",
    "    plt.plot([50, 70, 90, 110, 130, 150], line, label = '%s clusters' % i)\n",
    "plt.legend(loc = 4)\n",
    "ax.set_xlabel('maximum number of vertices')\n",
    "ax.set_ylabel('Rand index')\n",
    "plt.show()"
   ]
  },
  {
   "cell_type": "code",
   "execution_count": null,
   "metadata": {
    "collapsed": true
   },
   "outputs": [],
   "source": []
  }
 ],
 "metadata": {
  "kernelspec": {
   "display_name": "Python 2",
   "language": "python",
   "name": "python2"
  },
  "language_info": {
   "codemirror_mode": {
    "name": "ipython",
    "version": 2
   },
   "file_extension": ".py",
   "mimetype": "text/x-python",
   "name": "python",
   "nbconvert_exporter": "python",
   "pygments_lexer": "ipython2",
   "version": "2.7.6"
  }
 },
 "nbformat": 4,
 "nbformat_minor": 1
}
