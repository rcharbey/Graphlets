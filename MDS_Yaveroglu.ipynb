{
 "cells": [
  {
   "cell_type": "code",
   "execution_count": 1,
   "metadata": {
    "collapsed": false
   },
   "outputs": [],
   "source": [
    "import numpy as np\n",
    "from sklearn.manifold import MDS\n",
    "from sklearn.metrics import euclidean_distances\n",
    "from sklearn.cluster import AgglomerativeClustering\n",
    "from sklearn.metrics import silhouette_score\n",
    "import matplotlib.pyplot as plt\n",
    "import csv\n",
    "import pandas\n",
    "from os import mkdir, path"
   ]
  },
  {
   "cell_type": "code",
   "execution_count": 3,
   "metadata": {
    "collapsed": false
   },
   "outputs": [],
   "source": [
    "import numpy as np\n",
    "import random\n",
    "\n",
    "#Bauckhage C. Numpy/scipy Recipes for Data Science: k-Medoids Clustering[R]. Technical Report, University of Bonn, 2015.\n",
    "\n",
    "def kMedoids(D, k, tmax=10000):\n",
    "    # determine dimensions of distance matrix D\n",
    "    m, n = D.shape\n",
    "\n",
    "    if k > n:\n",
    "        raise Exception('too many medoids')\n",
    "    # randomly initialize an array of k medoid indices\n",
    "    M = np.arange(n)\n",
    "    np.random.shuffle(M)\n",
    "    M = np.sort(M[:k])\n",
    "\n",
    "    # create a copy of the array of medoid indices\n",
    "    Mnew = np.copy(M)\n",
    "\n",
    "    # initialize a dictionary to represent clusters\n",
    "    C = {}\n",
    "    for t in xrange(tmax):\n",
    "        # determine clusters, i. e. arrays of data indices\n",
    "        J = np.argmin(D[:,M], axis=1)\n",
    "        for kappa in range(k):\n",
    "            C[kappa] = np.where(J==kappa)[0]\n",
    "        # update cluster medoids\n",
    "        for kappa in range(k):\n",
    "            J = np.mean(D[np.ix_(C[kappa],C[kappa])],axis=1)\n",
    "            j = np.argmin(J)\n",
    "            Mnew[kappa] = C[kappa][j]\n",
    "        np.sort(Mnew)\n",
    "        # check for convergence\n",
    "        if np.array_equal(M, Mnew):\n",
    "            break\n",
    "        M = np.copy(Mnew)\n",
    "    else:\n",
    "        # final update of cluster memberships\n",
    "        J = np.argmin(D[:,M], axis=1)\n",
    "        for kappa in range(k):\n",
    "            C[kappa] = np.where(J==kappa)[0]\n",
    "\n",
    "    # return results\n",
    "    return M, C"
   ]
  },
  {
   "cell_type": "code",
   "execution_count": 2,
   "metadata": {
    "collapsed": false
   },
   "outputs": [],
   "source": [
    "def get_data(file_name = None):\n",
    "    file_in = '../Data/%s.csv' % file_name\n",
    "    egos, typo_vector = [], {}\n",
    "    nb_par_ego = {}\n",
    "    with open(file_in, 'r') as to_read:\n",
    "        csv_r = csv.reader(to_read, delimiter = ';')\n",
    "        \n",
    "        first_line = csv_r.next()\n",
    "        keys_typo = [int(x.split('_')[-1]) for x in first_line[1:len(first_line)]]\n",
    "        \n",
    "        for line in csv_r:\n",
    "            ego = line[0]\n",
    "            if ego in egos:\n",
    "                ego = ego + '_%s' % (nb_par_ego.get(ego, 0) + 1)\n",
    "                nb_par_ego[ego] = 1 + nb_par_ego.get(ego, 0)\n",
    "            egos.append(ego)\n",
    "            typo_vector[ego] = {int(keys_typo[i]) : float(line[i+1]) for i in range(len(keys_typo))}\n",
    "                \n",
    "    return egos, typo_vector, keys_typo\n",
    "\n",
    "def get_overall_representativity():\n",
    "    s = {x : 0 for x in INDICS} \n",
    "    \n",
    "    for ego in EGOS:    \n",
    "        for graphlet in DATA_MOTIFS[ego]:\n",
    "            s[graphlet] += int(DATA_MOTIFS[ego][graphlet])\n",
    "    \n",
    "    all_graphlets = sum(s.values())\n",
    "    return {x : s[x]/float(all_graphlets) for x in s}\n",
    "\n",
    "\n",
    "def get_classe_representativity(list_of_egos):\n",
    "    s = {x : 0 for x in INDICS}    \n",
    "    for ego in list_of_egos:\n",
    "        for graphlet in DATA_MOTIFS[ego]:\n",
    "            s[graphlet] += int(DATA_MOTIFS[ego][graphlet])\n",
    "\n",
    "    all_graphlets = float(sum(s.values()))\n",
    "    local_representativities = {x : s[x]/all_graphlets for x in s}\n",
    "    \n",
    "    return {x : local_representativities[x] / float(OVERALL_REPR[x]) \\\n",
    "                if local_representativities[x] / float(OVERALL_REPR[x]) < 1\n",
    "                else\n",
    "                    2 - 1 / (local_representativities[x] / float(OVERALL_REPR[x]))\n",
    "                for x in local_representativities}"
   ]
  },
  {
   "cell_type": "code",
   "execution_count": 5,
   "metadata": {
    "collapsed": false
   },
   "outputs": [],
   "source": [
    "metric = 'gcd58'\n",
    "metric = 'gcd15'\n",
    "metric = 'rgf'\n",
    "metric = 'gdda'\n",
    "metric = 'gcd11'\n",
    "metric = 'gcd73'\n",
    "\n",
    "EGOS, DATA_MOTIFS, INDICS = get_data(file_name = 'motifs_facebook_k5')\n",
    "\n",
    "data = pandas.read_csv('../Data/Yaveroglu_indics/%s.txt' % metric, sep = '\\t', index_col = 0)\n",
    "\n",
    "#CSA restriction\n",
    "\n",
    "EGOS, DATA_MOTIFS, INDICS = get_data(file_name = 'motifs_facebook_csa_k5')\n",
    "corpus_per_ego = {}\n",
    "with open('../Data/corpus_per_ego.csv', 'r') as to_read:\n",
    "    csv_r = csv.reader(to_read, delimiter = ';')\n",
    "    for line in csv_r:\n",
    "        corpus_per_ego[line[0]] = line[1]\n",
    "        \n",
    "list_csa = [ego for ego in corpus_per_ego if corpus_per_ego[ego] == 'csa']\n",
    "\n",
    "data_csa = pandas.DataFrame(index = ['../Data/Yaveroglu_files/%s' % ego for ego in list_csa],\n",
    "                           columns = ['../Data/Yaveroglu_files/%s' % ego for ego in list_csa])\n",
    "for ego1 in list_csa:\n",
    "    df_ego1 = '../Data/Yaveroglu_files/%s' % ego1\n",
    "    for ego2 in list_csa:\n",
    "        df_ego2 = '../Data/Yaveroglu_files/%s' % ego2\n",
    "        data_csa[df_ego1][df_ego2] = data[df_ego1][df_ego2]\n",
    "        \n",
    "#data = data_csa\n",
    "#metric = '%s_csa' % metric\n",
    "\n",
    "#FIN CSA restriction\n",
    "    \n",
    "\n",
    "#this_range = range(2, 8)\n",
    "this_range = [5]\n",
    "\n",
    "for nb_clusters in this_range:\n",
    "    ac = AgglomerativeClustering(n_clusters = nb_clusters)\n",
    "    clusters = ac.fit(data)\n",
    "    \n",
    "matrix_clusters = []\n",
    "for i in range(nb_clusters):\n",
    "    matrix_clusters.append([])\n",
    "\n",
    "i = 0\n",
    "for label in clusters.labels_:\n",
    "    matrix_clusters[label].append(data.index[i].split('/')[-1])\n",
    "    i += 1\n",
    "\n",
    "i = 0    \n",
    "if not path.isdir('../Results/Yaveroglu/%s' % metric):\n",
    "    mkdir('../Results/Yaveroglu/%s' % metric)\n",
    "    \n",
    "for cluster in matrix_clusters:\n",
    "    with open('../Results/Yaveroglu/%s/egos_classe_%s.csv' % (metric, i), 'w') as to_write:\n",
    "        for ego in cluster:\n",
    "            to_write.write(ego+'\\n')\n",
    "            EGOS.append(ego)\n",
    "        i += 1\n",
    "    \n",
    "    \n",
    "OVERALL_REPR = get_overall_representativity()\n",
    "with open('../Results/Yaveroglu/%s.csv' % metric, 'w') as to_write:\n",
    "    csv_w = csv.writer(to_write, delimiter = ';')\n",
    "    csv_w.writerow(['classe', 'nb']+['']+INDICS)\n",
    "    i = 0\n",
    "    for cluster in matrix_clusters:\n",
    "        classe_repr = get_classe_representativity(cluster)\n",
    "        csv_w.writerow([i, len(cluster)]+['']+[classe_repr[g] for g in INDICS])\n",
    "        i += 1\n"
   ]
  },
  {
   "cell_type": "code",
   "execution_count": 23,
   "metadata": {
    "collapsed": false,
    "scrolled": true
   },
   "outputs": [
    {
     "ename": "KeyboardInterrupt",
     "evalue": "",
     "output_type": "error",
     "traceback": [
      "\u001b[1;31m---------------------------------------------------------------------------\u001b[0m",
      "\u001b[1;31mKeyboardInterrupt\u001b[0m                         Traceback (most recent call last)",
      "\u001b[1;32m<ipython-input-23-27b80dac7b6e>\u001b[0m in \u001b[0;36m<module>\u001b[1;34m()\u001b[0m\n\u001b[0;32m      5\u001b[0m \u001b[1;33m\u001b[0m\u001b[0m\n\u001b[0;32m      6\u001b[0m \u001b[0mdata\u001b[0m \u001b[1;33m=\u001b[0m \u001b[0mpandas\u001b[0m\u001b[1;33m.\u001b[0m\u001b[0mread_csv\u001b[0m\u001b[1;33m(\u001b[0m\u001b[1;34m'../Data/Yaveroglu_indics/%s.txt'\u001b[0m \u001b[1;33m%\u001b[0m \u001b[0mmetric\u001b[0m\u001b[1;33m,\u001b[0m \u001b[0msep\u001b[0m \u001b[1;33m=\u001b[0m \u001b[1;34m'\\t'\u001b[0m\u001b[1;33m,\u001b[0m \u001b[0mindex_col\u001b[0m \u001b[1;33m=\u001b[0m \u001b[1;36m0\u001b[0m\u001b[1;33m)\u001b[0m\u001b[1;33m\u001b[0m\u001b[0m\n\u001b[1;32m----> 7\u001b[1;33m \u001b[0mM\u001b[0m\u001b[1;33m,\u001b[0m \u001b[0mC\u001b[0m \u001b[1;33m=\u001b[0m \u001b[0mkMedoids\u001b[0m\u001b[1;33m(\u001b[0m\u001b[0mnp\u001b[0m\u001b[1;33m.\u001b[0m\u001b[0marray\u001b[0m\u001b[1;33m(\u001b[0m\u001b[0mdata\u001b[0m\u001b[1;33m)\u001b[0m\u001b[1;33m,\u001b[0m \u001b[1;36m6\u001b[0m\u001b[1;33m)\u001b[0m\u001b[1;33m\u001b[0m\u001b[0m\n\u001b[0m\u001b[0;32m      8\u001b[0m \u001b[1;33m\u001b[0m\u001b[0m\n\u001b[0;32m      9\u001b[0m \u001b[0mEGOS\u001b[0m\u001b[1;33m,\u001b[0m \u001b[0mDATA_MOTIFS\u001b[0m\u001b[1;33m,\u001b[0m \u001b[0mINDICS\u001b[0m \u001b[1;33m=\u001b[0m \u001b[0mget_data\u001b[0m\u001b[1;33m(\u001b[0m\u001b[0mfile_name\u001b[0m \u001b[1;33m=\u001b[0m \u001b[1;34m'motifs_facebook_k5'\u001b[0m\u001b[1;33m)\u001b[0m\u001b[1;33m\u001b[0m\u001b[0m\n",
      "\u001b[1;32m<ipython-input-2-cc734347eb73>\u001b[0m in \u001b[0;36mkMedoids\u001b[1;34m(D, k, tmax)\u001b[0m\n\u001b[0;32m     27\u001b[0m         \u001b[1;31m# update cluster medoids\u001b[0m\u001b[1;33m\u001b[0m\u001b[1;33m\u001b[0m\u001b[0m\n\u001b[0;32m     28\u001b[0m         \u001b[1;32mfor\u001b[0m \u001b[0mkappa\u001b[0m \u001b[1;32min\u001b[0m \u001b[0mrange\u001b[0m\u001b[1;33m(\u001b[0m\u001b[0mk\u001b[0m\u001b[1;33m)\u001b[0m\u001b[1;33m:\u001b[0m\u001b[1;33m\u001b[0m\u001b[0m\n\u001b[1;32m---> 29\u001b[1;33m             \u001b[0mJ\u001b[0m \u001b[1;33m=\u001b[0m \u001b[0mnp\u001b[0m\u001b[1;33m.\u001b[0m\u001b[0mmean\u001b[0m\u001b[1;33m(\u001b[0m\u001b[0mD\u001b[0m\u001b[1;33m[\u001b[0m\u001b[0mnp\u001b[0m\u001b[1;33m.\u001b[0m\u001b[0mix_\u001b[0m\u001b[1;33m(\u001b[0m\u001b[0mC\u001b[0m\u001b[1;33m[\u001b[0m\u001b[0mkappa\u001b[0m\u001b[1;33m]\u001b[0m\u001b[1;33m,\u001b[0m\u001b[0mC\u001b[0m\u001b[1;33m[\u001b[0m\u001b[0mkappa\u001b[0m\u001b[1;33m]\u001b[0m\u001b[1;33m)\u001b[0m\u001b[1;33m]\u001b[0m\u001b[1;33m,\u001b[0m\u001b[0maxis\u001b[0m\u001b[1;33m=\u001b[0m\u001b[1;36m1\u001b[0m\u001b[1;33m)\u001b[0m\u001b[1;33m\u001b[0m\u001b[0m\n\u001b[0m\u001b[0;32m     30\u001b[0m             \u001b[0mj\u001b[0m \u001b[1;33m=\u001b[0m \u001b[0mnp\u001b[0m\u001b[1;33m.\u001b[0m\u001b[0margmin\u001b[0m\u001b[1;33m(\u001b[0m\u001b[0mJ\u001b[0m\u001b[1;33m)\u001b[0m\u001b[1;33m\u001b[0m\u001b[0m\n\u001b[0;32m     31\u001b[0m             \u001b[0mMnew\u001b[0m\u001b[1;33m[\u001b[0m\u001b[0mkappa\u001b[0m\u001b[1;33m]\u001b[0m \u001b[1;33m=\u001b[0m \u001b[0mC\u001b[0m\u001b[1;33m[\u001b[0m\u001b[0mkappa\u001b[0m\u001b[1;33m]\u001b[0m\u001b[1;33m[\u001b[0m\u001b[0mj\u001b[0m\u001b[1;33m]\u001b[0m\u001b[1;33m\u001b[0m\u001b[0m\n",
      "\u001b[1;31mKeyboardInterrupt\u001b[0m: "
     ]
    }
   ],
   "source": [
    "metric = 'gcd11'\n",
    "metric = 'gcd58'\n",
    "metric = 'gdda'\n",
    "metric = 'rgf'\n",
    "\n",
    "data = pandas.read_csv('../Data/Yaveroglu_indics/%s.txt' % metric, sep = '\\t', index_col = 0)\n",
    "M, C = kMedoids(np.array(data), 6)\n",
    "\n",
    "OVERALL_REPR = get_overall_representativity()\n",
    "\n",
    "matrix_clusters = []\n",
    "for cluster in C.values():\n",
    "    matrix_clusters.append([data.index[i].split('/')[-1] for i in cluster])\n",
    "    \n",
    "with open('../Results/Yaveroglu/%s.csv' % metric, 'w') as to_write:\n",
    "    csv_w = csv.writer(to_write, delimiter = ';')\n",
    "    csv_w.writerow(['classe', 'nb']+['']+INDICS)\n",
    "    i = 0\n",
    "    for cluster in matrix_clusters:\n",
    "        classe_repr = get_classe_representativity(cluster)\n",
    "        csv_w.writerow([i, len(cluster)]+['']+[classe_repr[g] for g in INDICS])\n",
    "        i += 1\n",
    "        "
   ]
  },
  {
   "cell_type": "code",
   "execution_count": 8,
   "metadata": {
    "collapsed": false
   },
   "outputs": [],
   "source": [
    "sum_per_c = {}\n",
    "\n",
    "for i in range(5):\n",
    "    sum_per_c[i] = {j : 0 for j in range(10,31)}\n",
    "    with open('../Results/Yaveroglu/gcd73_csa/egos_classe_%s.csv' % i, 'r') as to_read:\n",
    "        csv_r = csv.reader(to_read, delimiter = ';')\n",
    "        for line in csv_r:\n",
    "            for j in range(10,31):\n",
    "                sum_per_c[i][j] += DATA_MOTIFS[line[0]][j]"
   ]
  },
  {
   "cell_type": "code",
   "execution_count": 11,
   "metadata": {
    "collapsed": false
   },
   "outputs": [
    {
     "ename": "KeyError",
     "evalue": "10",
     "output_type": "error",
     "traceback": [
      "\u001b[1;31m---------------------------------------------------------------------------\u001b[0m",
      "\u001b[1;31mKeyError\u001b[0m                                  Traceback (most recent call last)",
      "\u001b[1;32m<ipython-input-11-e1ceeee595d6>\u001b[0m in \u001b[0;36m<module>\u001b[1;34m()\u001b[0m\n\u001b[0;32m      3\u001b[0m     \u001b[0mprop_per_c\u001b[0m\u001b[1;33m[\u001b[0m\u001b[0mi\u001b[0m\u001b[1;33m]\u001b[0m \u001b[1;33m=\u001b[0m \u001b[1;33m{\u001b[0m\u001b[0mj\u001b[0m \u001b[1;33m:\u001b[0m \u001b[1;36m0\u001b[0m \u001b[1;32mfor\u001b[0m \u001b[0mj\u001b[0m \u001b[1;32min\u001b[0m \u001b[0mrange\u001b[0m\u001b[1;33m(\u001b[0m\u001b[1;36m10\u001b[0m\u001b[1;33m,\u001b[0m\u001b[1;36m31\u001b[0m\u001b[1;33m)\u001b[0m\u001b[1;33m}\u001b[0m\u001b[1;33m\u001b[0m\u001b[0m\n\u001b[0;32m      4\u001b[0m     \u001b[1;32mfor\u001b[0m \u001b[0mj\u001b[0m \u001b[1;32min\u001b[0m \u001b[0mrange\u001b[0m\u001b[1;33m(\u001b[0m\u001b[1;36m10\u001b[0m\u001b[1;33m,\u001b[0m\u001b[1;36m31\u001b[0m\u001b[1;33m)\u001b[0m\u001b[1;33m:\u001b[0m\u001b[1;33m\u001b[0m\u001b[0m\n\u001b[1;32m----> 5\u001b[1;33m         \u001b[0mprop_per_c\u001b[0m\u001b[1;33m[\u001b[0m\u001b[0mi\u001b[0m\u001b[1;33m]\u001b[0m\u001b[1;33m[\u001b[0m\u001b[0mj\u001b[0m\u001b[1;33m]\u001b[0m \u001b[1;33m=\u001b[0m \u001b[0msum_per_c\u001b[0m\u001b[1;33m[\u001b[0m\u001b[0mj\u001b[0m\u001b[1;33m]\u001b[0m \u001b[1;33m/\u001b[0m \u001b[0mfloat\u001b[0m\u001b[1;33m(\u001b[0m\u001b[0msum\u001b[0m\u001b[1;33m(\u001b[0m\u001b[0msum_per_c\u001b[0m\u001b[1;33m[\u001b[0m\u001b[0mi\u001b[0m\u001b[1;33m]\u001b[0m\u001b[1;33m[\u001b[0m\u001b[0mk\u001b[0m\u001b[1;33m]\u001b[0m \u001b[1;32mfor\u001b[0m \u001b[0mk\u001b[0m \u001b[1;32min\u001b[0m \u001b[0mrange\u001b[0m\u001b[1;33m(\u001b[0m\u001b[1;36m10\u001b[0m\u001b[1;33m,\u001b[0m\u001b[1;36m31\u001b[0m\u001b[1;33m)\u001b[0m\u001b[1;33m)\u001b[0m\u001b[1;33m)\u001b[0m\u001b[1;33m\u001b[0m\u001b[0m\n\u001b[0m\u001b[0;32m      6\u001b[0m \u001b[1;33m\u001b[0m\u001b[0m\n\u001b[0;32m      7\u001b[0m \u001b[0mprop_per_c\u001b[0m\u001b[1;33m\u001b[0m\u001b[0m\n",
      "\u001b[1;31mKeyError\u001b[0m: 10"
     ]
    }
   ],
   "source": [
    "prop_per_c = {}\n",
    "for i in range(5):\n",
    "    prop_per_c[i] = {j : 0 for j in range(10,31)}\n",
    "    for j in range(10,31):\n",
    "        prop_per_c[i][j] = sum_per_c[j] / float(sum(sum_per_c[i][k] for k in range(10,31)))\n",
    "\n",
    "prop_per_c"
   ]
  },
  {
   "cell_type": "code",
   "execution_count": 57,
   "metadata": {
    "collapsed": false
   },
   "outputs": [
    {
     "data": {
      "text/plain": [
       "{10: 0.06412812795768298,\n",
       " 11: 0.04820899807006561,\n",
       " 12: 0.11394199176106903,\n",
       " 13: 0.07596825045232677,\n",
       " 14: 0.07571021019960403,\n",
       " 15: 0.0892004398794107,\n",
       " 16: 0.002001147227282755,\n",
       " 17: 0.02114854107604261,\n",
       " 18: 0.06109252703977707,\n",
       " 19: 0.09164958738790016,\n",
       " 20: 0.021479556231607785,\n",
       " 21: 0.015274831559327557,\n",
       " 22: 0.0015515306919780326,\n",
       " 23: 0.07022461736107595,\n",
       " 24: 0.051325786414754875,\n",
       " 25: 0.015906073305004376,\n",
       " 26: 0.00839980380081857,\n",
       " 27: 0.010485276442677518,\n",
       " 28: 0.0735600876178066,\n",
       " 29: 0.05315993288826496,\n",
       " 30: 0.03558268263552205}"
      ]
     },
     "execution_count": 57,
     "metadata": {},
     "output_type": "execute_result"
    }
   ],
   "source": [
    "g"
   ]
  },
  {
   "cell_type": "code",
   "execution_count": 21,
   "metadata": {
    "collapsed": false
   },
   "outputs": [
    {
     "name": "stdout",
     "output_type": "stream",
     "text": [
      "[0.0586707207582327, 0.06093408592370396, 0.11567430227621736, 0.07935425546666801, 0.07473416668394475, 0.1033948000706457, 0.0017062772876947606, 0.01918472348672884, 0.060828860703243184, 0.09518728815191496, 0.02467372661281968, 0.01409983836842904, 0.0014104021604991524, 0.07250676736735046, 0.04926874798939924, 0.015935499394641152, 0.007537868943640883, 0.008927557604429034, 0.06695584544534312, 0.04270866868854809, 0.026305596615905934]\n",
      "\n",
      "[0.0674648396503298, 0.06456785253141764, 0.10982063310580552, 0.08210706574334992, 0.08200789489594734, 0.09317199072223142, 0.002804905893162619, 0.02593959155988318, 0.06875213960779283, 0.09297426651060249, 0.022498167237512075, 0.020140784182136252, 0.0018279407828755113, 0.0630127707031951, 0.05581591280521593, 0.01458282573611637, 0.009875324581746817, 0.010426798044115178, 0.06148296756895265, 0.03534379934791185, 0.015381528789699509]\n",
      "\n",
      "[0.08618471061830406, 0.04647994820838314, 0.14368435983824565, 0.08671152662115245, 0.08812949551962107, 0.09336963996706281, 0.0024846970274668054, 0.02576442299975467, 0.06222162777270687, 0.09177833222096089, 0.020453279994009695, 0.016191355866857687, 0.0017004257558381102, 0.05795128821295585, 0.04529374791580847, 0.01419797528437558, 0.007800944923702721, 0.008406508795577762, 0.05321881447803689, 0.03259550617850197, 0.015381391800676847]\n",
      "\n",
      "[0.0167867341525412, 0.01003380750456238, 0.029684141641489484, 0.030716188811890383, 0.04116399578814144, 0.03992017858969721, 0.0011516723192050425, 0.011993597683989856, 0.05019664040698662, 0.08059198473726036, 0.014471697335271278, 0.013402325693778496, 0.0013853932817919708, 0.09544204740310591, 0.06667627459178685, 0.020990555612602164, 0.010916749470696815, 0.01883773500465727, 0.14965401266280196, 0.1492138466495101, 0.14677042065823323]\n",
      "\n",
      "[0.03573464243254036, 0.03385946528066614, 0.061716884923425336, 0.05600176147185915, 0.05699433676114816, 0.060041294574680826, 0.0016400229444452422, 0.01634441472332789, 0.06332173308697524, 0.0866581214450429, 0.019019655357352956, 0.01592761582485656, 0.0015324752306528383, 0.0906095825098511, 0.06772295592306264, 0.01871821193610756, 0.011254439083783043, 0.01728186529796956, 0.11850392430202113, 0.0996347700475862, 0.0674818268426452]\n",
      "\n"
     ]
    }
   ],
   "source": [
    "def prop_graphlets(list_egos):\n",
    "    with open('../Data/motifs_facebook_k5.csv', 'r') as to_read:\n",
    "        csv_r = csv.reader(to_read, delimiter = ';')\n",
    "        list_graphlets = [int(x.split('_')[2]) for x in csv_r.next()[1:]]\n",
    "        nb_per_graphlet = {x : 0 for x in list_graphlets}\n",
    "        for line in csv_r:\n",
    "            if not line[0] in list_egos:\n",
    "                continue\n",
    "            for i in list_graphlets:\n",
    "                nb_per_graphlet[i] += int(line[i-9])\n",
    "    sum_nb_graphlets = float(sum(nb_per_graphlet.values()))\n",
    "    return {x : nb_per_graphlet[x]/sum_nb_graphlets for x in list_graphlets}\n",
    "\n",
    "for cluster in range(5):\n",
    "    list_egos = []\n",
    "    with open('../Results/Yaveroglu/gcd73/egos_classe_%s.csv' % cluster) as to_read:\n",
    "        csv_r = csv.reader(to_read, delimiter = ';')\n",
    "        for line in csv_r:\n",
    "            list_egos.append(line[0])\n",
    "    print prop_graphlets(list_egos).values()\n",
    "    print\n",
    "        "
   ]
  },
  {
   "cell_type": "code",
   "execution_count": null,
   "metadata": {
    "collapsed": true
   },
   "outputs": [],
   "source": []
  }
 ],
 "metadata": {
  "kernelspec": {
   "display_name": "Python 2",
   "language": "python",
   "name": "python2"
  },
  "language_info": {
   "codemirror_mode": {
    "name": "ipython",
    "version": 2
   },
   "file_extension": ".py",
   "mimetype": "text/x-python",
   "name": "python",
   "nbconvert_exporter": "python",
   "pygments_lexer": "ipython2",
   "version": "2.7.6"
  }
 },
 "nbformat": 4,
 "nbformat_minor": 1
}
