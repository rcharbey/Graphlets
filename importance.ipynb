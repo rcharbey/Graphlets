{
 "cells": [
  {
   "cell_type": "code",
   "execution_count": 58,
   "metadata": {
    "collapsed": false
   },
   "outputs": [],
   "source": [
    "import csv\n",
    "import numpy as np\n",
    "\n",
    "MAIN_DIR = 'representativity_k5'\n",
    "\n",
    "to_read =  open('../Results/%s/axes.csv' % MAIN_DIR, 'r')\n",
    "csv_r = csv.reader(to_read, delimiter = ';')\n",
    "list_var = csv_r.next()[1:]\n",
    "to_read.close()\n",
    "\n",
    "def sort_dict(dictionnary):\n",
    "    temp = dictionnary.items()\n",
    "    temp.sort(key = lambda x : x[1], reverse = True)\n",
    "    return temp"
   ]
  },
  {
   "cell_type": "code",
   "execution_count": 59,
   "metadata": {
    "collapsed": false
   },
   "outputs": [],
   "source": [
    "def compute_normalized_importances():\n",
    "    with open('../Results/%s/axes.csv' % MAIN_DIR, 'r') as to_read:\n",
    "        csv_r = csv.reader(to_read, delimiter = ';')\n",
    "        en_tete = csv_r.next()\n",
    "        list_var = en_tete[1:] \n",
    "        importance_per_var = {}\n",
    "        for elem in list_var:\n",
    "            importance_per_var[elem] = 0\n",
    "        for line in csv_r:\n",
    "            percent = float(line[0])\n",
    "            i = 0\n",
    "            for x in [abs(float(elem)) for elem in line[1:]]:\n",
    "                importance_per_var[list_var[i]] += percent*x\n",
    "                i += 1\n",
    "\n",
    "    m = sum([float(x) for x in importance_per_var.values()])/float(len(importance_per_var.keys()))\n",
    "    \n",
    "    return {elem : float(importance_per_var[elem])/float(m) for elem in list_var}"
   ]
  },
  {
   "cell_type": "code",
   "execution_count": 60,
   "metadata": {
    "collapsed": false
   },
   "outputs": [
    {
     "name": "stdout",
     "output_type": "stream",
     "text": [
      "26 : 1.118\n",
      "21 : 1.099\n",
      "23 : 1.097\n",
      "30 : 1.089\n",
      "11 : 1.081\n",
      "15 : 1.052\n",
      "25 : 1.047\n",
      "10 : 1.034\n",
      "22 : 1.027\n",
      "18 : 1.021\n",
      "14 : 0.993\n",
      "28 : 0.988\n",
      "19 : 0.988\n",
      "27 : 0.985\n",
      "24 : 0.973\n",
      "13 : 0.964\n",
      "12 : 0.958\n",
      "29 : 0.949\n",
      "17 : 0.938\n",
      "20 : 0.874\n",
      "16 : 0.725\n"
     ]
    }
   ],
   "source": [
    "# Importance \n",
    "importances = compute_normalized_importances()\n",
    "sorted_dict = sort_dict(importances)\n",
    "\n",
    "for x in sorted_dict:\n",
    "    print '%s : %s' % (x[0], round(x[1], 3))"
   ]
  },
  {
   "cell_type": "code",
   "execution_count": 36,
   "metadata": {
    "collapsed": false
   },
   "outputs": [],
   "source": [
    "def compute_distances(absolute = False):\n",
    "    with open('../Results/%s/axes.csv' % MAIN_DIR, 'r') as to_read:\n",
    "        csv_r = csv.reader(to_read, delimiter = ';')\n",
    "        en_tete = csv_r.next()\n",
    "        list_var = en_tete[1:] \n",
    "        distances = {}\n",
    "        for elem in list_var:\n",
    "            distances[elem] = {elem2 : 0 for elem2 in list_var if not elem == elem2}\n",
    "        for line in csv_r:\n",
    "            percent = float(line[0])\n",
    "            i = 0        \n",
    "            for x in [float(elem) for elem in line[1:]]:\n",
    "                j = 0\n",
    "                for y in [float(elem) for elem in line[1:]]:\n",
    "                    if i == j:\n",
    "                        j += 1\n",
    "                        continue\n",
    "                    if absolute:\n",
    "                        distances[list_var[i]][list_var[j]] += percent*(abs(abs(x)-abs(y)))\n",
    "                    else:\n",
    "                        distances[list_var[i]][list_var[j]] += percent*(abs(x-y))\n",
    "                    j += 1\n",
    "                i += 1\n",
    "    return distances"
   ]
  },
  {
   "cell_type": "code",
   "execution_count": 37,
   "metadata": {
    "collapsed": true
   },
   "outputs": [],
   "source": [
    "def normalize_distances(distances):\n",
    "    s_all = 0\n",
    "    for v1 in distances.keys():\n",
    "        s_all += sum(distances[v1].values())\n",
    "    m = s_all / float(len(distances.keys())*(len(distances.keys())-1))\n",
    "\n",
    "    new_distances = {}\n",
    "\n",
    "    for elem in distances:\n",
    "        new_distances[elem] = {}\n",
    "        for elem2 in distances[elem]:\n",
    "            new_distances[elem][elem2] = distances[elem][elem2]/float(m)\n",
    "    return new_distances"
   ]
  },
  {
   "cell_type": "code",
   "execution_count": 38,
   "metadata": {
    "collapsed": false
   },
   "outputs": [
    {
     "name": "stdout",
     "output_type": "stream",
     "text": [
      "11 : 1.31\n",
      "5 : 1.2\n",
      "15 : 1.18\n",
      "10 : 1.15\n",
      "12 : 1.14\n",
      "4 : 1.1\n",
      "13 : 1.1\n",
      "30 : 1.09\n",
      "14 : 1.07\n",
      "26 : 1.07\n",
      "23 : 1.05\n",
      "21 : 1.02\n",
      "22 : 1.0\n",
      "25 : 0.99\n",
      "9 : 0.99\n",
      "29 : 0.98\n",
      "24 : 0.94\n",
      "18 : 0.93\n",
      "28 : 0.92\n",
      "17 : 0.92\n",
      "19 : 0.91\n",
      "20 : 0.91\n",
      "7 : 0.91\n",
      "27 : 0.89\n",
      "6 : 0.83\n",
      "8 : 0.8\n",
      "16 : 0.67\n"
     ]
    }
   ],
   "source": [
    "# Importance* Distances moyennes\n",
    "importances = compute_normalized_importances()\n",
    "distances = normalize_distances(compute_distances())\n",
    "new_distances = {}\n",
    "\n",
    "for graphlet in distances:\n",
    "    new_distances[graphlet] = importances[graphlet]*np.mean(distances[graphlet].values())\n",
    "\n",
    "sorted_dict = sort_dict(new_distances)\n",
    "\n",
    "for key, dist in sorted_dict:\n",
    "    print '%s : %s' % (key, round(dist,2))"
   ]
  },
  {
   "cell_type": "code",
   "execution_count": 39,
   "metadata": {
    "collapsed": false
   },
   "outputs": [
    {
     "name": "stdout",
     "output_type": "stream",
     "text": [
      "17 : 1.09\n",
      "22 : 1.08\n",
      "13 : 1.07\n",
      "14 : 1.07\n",
      "20 : 1.05\n",
      "27 : 1.04\n",
      "21 : 1.01\n",
      "19 : 0.99\n",
      "25 : 0.99\n",
      "10 : 0.99\n",
      "23 : 0.99\n",
      "8 : 0.99\n",
      "30 : 0.98\n",
      "24 : 0.98\n",
      "6 : 0.98\n",
      "29 : 0.98\n",
      "28 : 0.98\n",
      "12 : 0.98\n",
      "11 : 0.97\n",
      "7 : 0.96\n",
      "9 : 0.96\n",
      "26 : 0.96\n",
      "18 : 0.95\n",
      "15 : 0.95\n",
      "4 : 0.94\n",
      "5 : 0.93\n",
      "16 : 0.9\n"
     ]
    }
   ],
   "source": [
    "# Importance* Distances moyennes (absolue)\n",
    "importances = compute_normalized_importances()\n",
    "distances = normalize_distances(compute_distances(absolute = True))\n",
    "new_distances = {}\n",
    "\n",
    "for graphlet in distances:\n",
    "    new_distances[graphlet] = importances[graphlet]*np.mean(distances[graphlet].values())\n",
    "\n",
    "sorted_dict = sort_dict(new_distances)\n",
    "for key, dist in sorted_dict:\n",
    "    print '%s : %s' % (key, round(dist,2))"
   ]
  },
  {
   "cell_type": "code",
   "execution_count": 40,
   "metadata": {
    "collapsed": false
   },
   "outputs": [
    {
     "name": "stdout",
     "output_type": "stream",
     "text": [
      "14 : 1.51\n",
      "18 : 1.49\n",
      "13 : 1.45\n",
      "27 : 1.39\n",
      "25 : 1.34\n",
      "26 : 1.28\n",
      "12 : 1.17\n",
      "23 : 1.17\n",
      "22 : 1.15\n",
      "16 : 1.15\n",
      "20 : 1.13\n",
      "15 : 1.03\n",
      "24 : 1.02\n",
      "19 : 1.01\n",
      "6 : 0.93\n",
      "21 : 0.87\n",
      "17 : 0.82\n",
      "7 : 0.79\n",
      "29 : 0.77\n",
      "30 : 0.69\n",
      "28 : 0.69\n",
      "10 : 0.67\n",
      "9 : 0.65\n",
      "4 : 0.64\n",
      "11 : 0.63\n",
      "8 : 0.61\n",
      "5 : 0.59\n"
     ]
    }
   ],
   "source": [
    "# Importance* Distances min\n",
    "importances = compute_normalized_importances()\n",
    "distances = normalize_distances(compute_distances())\n",
    "min_distances_temp = {elem : min(distances[elem].values()) for elem in list_var}\n",
    "m = np.mean(min_distances_temp.values())\n",
    "min_distances = {elem : min_distances_temp[elem] / float(m) for elem in list_var}\n",
    "    \n",
    "new_distances = {}\n",
    "\n",
    "for graphlet in min_distances:\n",
    "    new_distances[graphlet] = importances[graphlet]*min_distances[graphlet]\n",
    "\n",
    "sorted_dict = sort_dict(new_distances)\n",
    "for key, dist in sorted_dict:\n",
    "    print '%s : %s' % (key, round(dist,2))"
   ]
  },
  {
   "cell_type": "code",
   "execution_count": 41,
   "metadata": {
    "collapsed": false
   },
   "outputs": [
    {
     "name": "stdout",
     "output_type": "stream",
     "text": [
      "4 : 0.9\n",
      "5 : 0.9\n",
      "6 : 1.16\n",
      "7 : 1.04\n",
      "8 : 0.77\n",
      "9 : 0.91\n",
      "10 : 0.9\n",
      "11 : 0.96\n",
      "12 : 0.78\n",
      "13 : 0.94\n",
      "14 : 0.94\n",
      "15 : 0.92\n",
      "16 : 1.17\n",
      "17 : 1.04\n",
      "18 : 1.22\n",
      "19 : 1.02\n",
      "20 : 1.24\n",
      "21 : 0.94\n",
      "22 : 0.99\n",
      "23 : 1.16\n",
      "24 : 0.62\n",
      "25 : 1.14\n",
      "26 : 1.26\n",
      "27 : 1.25\n",
      "28 : 0.59\n",
      "29 : 0.85\n",
      "30 : 1.02\n"
     ]
    }
   ],
   "source": [
    "# Importance* Distances min (absolue)\n",
    "importances = compute_normalized_importances()\n",
    "distances = normalize_distances(compute_distances(absolute = True))\n",
    "min_distances_temp = {elem : min(distances[elem].values()) for elem in list_var}\n",
    "m = np.mean(min_distances_temp.values())\n",
    "min_distances = {elem : min_distances_temp[elem] / float(m) for elem in list_var}\n",
    "for x in list_var:\n",
    "    print '%s : %s' % (x, round(importances[x]*min_distances[x], 2))"
   ]
  },
  {
   "cell_type": "code",
   "execution_count": 46,
   "metadata": {
    "collapsed": false
   },
   "outputs": [],
   "source": [
    "import math\n",
    "\n",
    "def pop_min_distance(distances, importances):\n",
    "    distances_copie = distances.copy()\n",
    "    order = []\n",
    "    \n",
    "    while len(distances_copie.keys()) > 1:\n",
    "        min_dist, min_g1, min_g2 = 10000000, '', ''\n",
    "        for g1 in distances_copie:\n",
    "            for g2 in distances_copie[g1]:\n",
    "                if g1 == g2:\n",
    "                    continue\n",
    "                if distances_copie[g1][g2] < min_dist:\n",
    "                    min_important = g1 if min(importances[g1], importances[g2]) == g1 else g2                \n",
    "                    max_important = g2 if min_important == g1 else g1\n",
    "                    min_dist, min_g2 = distances_copie[g1][g2], min_important\n",
    "\n",
    "        distances_copie.pop(min_important)\n",
    "        for g in distances_copie.keys():\n",
    "            distances_copie[g].pop(min_important)\n",
    "        order.append((min_important, round(min_dist, 2), max_important))\n",
    "    return order"
   ]
  },
  {
   "cell_type": "code",
   "execution_count": 61,
   "metadata": {
    "collapsed": false
   },
   "outputs": [
    {
     "name": "stdout",
     "output_type": "stream",
     "text": [
      "29 -> distance = 0.36 de 28\n",
      "15 -> distance = 0.4 de 11\n",
      "21 -> distance = 0.47 de 26\n",
      "28 -> distance = 0.5 de 24\n",
      "19 -> distance = 0.52 de 25\n",
      "17 -> distance = 0.54 de 22\n",
      "30 -> distance = 0.59 de 23\n",
      "13 -> distance = 0.65 de 10\n",
      "26 -> distance = 0.67 de 24\n",
      "12 -> distance = 0.68 de 10\n",
      "23 -> distance = 0.7 de 25\n",
      "27 -> distance = 0.71 de 25\n",
      "14 -> distance = 0.72 de 10\n",
      "16 -> distance = 0.74 de 22\n",
      "25 -> distance = 0.74 de 24\n",
      "18 -> distance = 0.76 de 24\n",
      "20 -> distance = 1.04 de 22\n",
      "22 -> distance = 1.06 de 24\n",
      "10 -> distance = 1.11 de 11\n",
      "11 -> distance = 1.32 de 24\n"
     ]
    }
   ],
   "source": [
    "# Process suppression\n",
    "importances = compute_normalized_importances()\n",
    "distances = normalize_distances(compute_distances())\n",
    "order = pop_min_distance(distances, importances)\n",
    "for elem in order:\n",
    "    print '%s -> distance = %s de %s' % elem"
   ]
  },
  {
   "cell_type": "code",
   "execution_count": 62,
   "metadata": {
    "collapsed": false
   },
   "outputs": [
    {
     "name": "stdout",
     "output_type": "stream",
     "text": [
      "28 -> distance = 0.38 de 24\n",
      "23 -> distance = 0.49 de 26\n",
      "15 -> distance = 0.51 de 11\n",
      "29 -> distance = 0.52 de 12\n",
      "12 -> distance = 0.52 de 24\n",
      "21 -> distance = 0.53 de 10\n",
      "26 -> distance = 0.58 de 25\n",
      "30 -> distance = 0.6 de 19\n",
      "17 -> distance = 0.62 de 13\n",
      "18 -> distance = 0.67 de 10\n",
      "13 -> distance = 0.68 de 22\n",
      "10 -> distance = 0.7 de 11\n",
      "19 -> distance = 0.72 de 25\n",
      "27 -> distance = 0.72 de 25\n",
      "25 -> distance = 0.75 de 24\n",
      "14 -> distance = 0.87 de 20\n",
      "16 -> distance = 0.94 de 22\n",
      "11 -> distance = 0.95 de 22\n",
      "20 -> distance = 1.05 de 22\n",
      "22 -> distance = 1.41 de 24\n"
     ]
    }
   ],
   "source": [
    "# Process suppression (absolue)\n",
    "importances = compute_normalized_importances()\n",
    "distances = normalize_distances(compute_distances(absolute = True))\n",
    "order = pop_min_distance(distances, importances)\n",
    "for elem in order:\n",
    "    print '%s -> distance = %s de %s' % elem"
   ]
  },
  {
   "cell_type": "code",
   "execution_count": null,
   "metadata": {
    "collapsed": true
   },
   "outputs": [],
   "source": []
  }
 ],
 "metadata": {
  "kernelspec": {
   "display_name": "Python 2",
   "language": "python",
   "name": "python2"
  },
  "language_info": {
   "codemirror_mode": {
    "name": "ipython",
    "version": 2
   },
   "file_extension": ".py",
   "mimetype": "text/x-python",
   "name": "python",
   "nbconvert_exporter": "python",
   "pygments_lexer": "ipython2",
   "version": "2.7.6"
  }
 },
 "nbformat": 4,
 "nbformat_minor": 1
}
