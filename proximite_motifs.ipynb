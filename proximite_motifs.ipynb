{
 "cells": [
  {
   "cell_type": "code",
   "execution_count": 1,
   "metadata": {
    "collapsed": true
   },
   "outputs": [],
   "source": [
    "import csv\n",
    "\n",
    "MAIN_DIR = 'representativity_k5_pruned_1'"
   ]
  },
  {
   "cell_type": "code",
   "execution_count": 4,
   "metadata": {
    "collapsed": false
   },
   "outputs": [],
   "source": [
    "with open('../Results/%s/axes.csv' % MAIN_DIR, 'r') as to_read:\n",
    "    csv_r = csv.reader(to_read, delimiter = ';')\n",
    "    en_tete = csv_r.next()\n",
    "    list_var = en_tete[1:] \n",
    "    distances = {}\n",
    "    for elem in list_var:\n",
    "        distances[elem] = {elem2 : 0 for elem2 in list_var if not elem == elem2}\n",
    "    for line in csv_r:\n",
    "        percent = float(line[0])\n",
    "        i = 0        \n",
    "        for x in [abs(float(elem)) for elem in line[1:]]:\n",
    "            j = 0\n",
    "            for y in [abs(float(elem)) for elem in line[1:]]:\n",
    "                if i == j:\n",
    "                    j += 1\n",
    "                    continue\n",
    "                distances[list_var[i]][list_var[j]] += abs(1/percent*(abs(x)-abs(y)))\n",
    "                j += 1\n",
    "            i += 1"
   ]
  },
  {
   "cell_type": "code",
   "execution_count": 5,
   "metadata": {
    "collapsed": false,
    "scrolled": true
   },
   "outputs": [
    {
     "name": "stdout",
     "output_type": "stream",
     "text": [
      "11-26 : 1.65\n",
      "11-15 : 0.54\n",
      "11-21 : 1.77\n",
      "11-22 : 1.43\n",
      "11-23 : 0.87\n",
      "11-18 : 1.27\n",
      "11-30 : 1.08\n",
      "11-25 : 1.34\n",
      "10-11 : 1.02\n",
      "10-25 : 0.59\n",
      "10-26 : 1.05\n",
      "10-15 : 0.9\n",
      "10-21 : 1.04\n",
      "10-22 : 0.63\n",
      "10-23 : 0.63\n",
      "10-18 : 0.62\n",
      "10-30 : 0.52\n",
      "26-30 : 1.05\n",
      "15-26 : 1.33\n",
      "15-21 : 1.4\n",
      "15-22 : 1.29\n",
      "15-23 : 0.84\n",
      "15-18 : 1.34\n",
      "15-30 : 0.87\n",
      "15-25 : 1.3\n",
      "21-26 : 0.24\n",
      "21-22 : 1.18\n",
      "21-23 : 1.41\n",
      "21-30 : 1.14\n",
      "21-25 : 0.96\n",
      "22-26 : 1.16\n",
      "22-23 : 1.06\n",
      "22-30 : 1.0\n",
      "22-25 : 0.6\n",
      "23-26 : 1.36\n",
      "23-25 : 0.97\n",
      "23-30 : 0.69\n",
      "18-26 : 1.23\n",
      "18-21 : 1.23\n",
      "18-22 : 0.49\n",
      "18-23 : 0.73\n",
      "18-30 : 0.7\n",
      "18-25 : 0.72\n",
      "25-26 : 0.89\n",
      "25-30 : 0.89\n"
     ]
    }
   ],
   "source": [
    "s_all = 0\n",
    "for v1 in distances.keys():\n",
    "    s_all += sum(distances[v1].values())\n",
    "m = s_all / float(len(distances.keys())*(len(distances.keys())-1))\n",
    "\n",
    "\n",
    "for elem in distances:\n",
    "    for elem2 in distances[elem]:\n",
    "        if int(elem2) > int(elem):\n",
    "            print '%s-%s : %s' % (elem, elem2, round(distances[elem][elem2]/float(m), 2))"
   ]
  },
  {
   "cell_type": "code",
   "execution_count": 3,
   "metadata": {
    "collapsed": false
   },
   "outputs": [],
   "source": [
    "with open('../Results/%s/similarity_motifs.csv' % MAIN_DIR, 'w') as to_write:\n",
    "    csv_w = csv.writer(to_write, delimiter = ';')\n",
    "    \n",
    "    csv_w.writerow(['']+list_var)\n",
    "    \n",
    "    list_all = []\n",
    "\n",
    "    for elem in list_var:\n",
    "        row = [elem]\n",
    "        for elem2 in list_var:\n",
    "            if not elem2 in distances[elem]:\n",
    "                row.append('')\n",
    "                continue\n",
    "            row.append(round(distances[elem][elem2], 2))\n",
    "            #print '%s - %s : %s' % (elem, elem2, round(distances[elem][elem2], 2))\n",
    "            if elem > elem2:\n",
    "                list_all.append((distances[elem][elem2]))\n",
    "        csv_w.writerow(row)"
   ]
  },
  {
   "cell_type": "code",
   "execution_count": 6,
   "metadata": {
    "collapsed": false
   },
   "outputs": [],
   "source": []
  },
  {
   "cell_type": "code",
   "execution_count": 20,
   "metadata": {
    "collapsed": false
   },
   "outputs": [
    {
     "data": {
      "text/plain": [
       "13.394500000000001"
      ]
     },
     "execution_count": 20,
     "metadata": {},
     "output_type": "execute_result"
    }
   ],
   "source": [
    "median(list_all)"
   ]
  },
  {
   "cell_type": "code",
   "execution_count": null,
   "metadata": {
    "collapsed": true
   },
   "outputs": [],
   "source": []
  }
 ],
 "metadata": {
  "kernelspec": {
   "display_name": "Python 2",
   "language": "python",
   "name": "python2"
  },
  "language_info": {
   "codemirror_mode": {
    "name": "ipython",
    "version": 2
   },
   "file_extension": ".py",
   "mimetype": "text/x-python",
   "name": "python",
   "nbconvert_exporter": "python",
   "pygments_lexer": "ipython2",
   "version": "2.7.6"
  }
 },
 "nbformat": 4,
 "nbformat_minor": 1
}
