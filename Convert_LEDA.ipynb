{
 "cells": [
  {
   "cell_type": "code",
   "execution_count": 2,
   "metadata": {
    "collapsed": false
   },
   "outputs": [],
   "source": [
    "import csv\n",
    "import os\n",
    "#import tkinter.filedialog"
   ]
  },
  {
   "cell_type": "code",
   "execution_count": 30,
   "metadata": {
    "collapsed": true
   },
   "outputs": [],
   "source": [
    "remaining_edges = 'Remaining_edges'\n",
    "input_folder = '/home/raphael/Graphs/'\n",
    "output_folder = '../Data/Yaveroglu_files/'"
   ]
  },
  {
   "cell_type": "code",
   "execution_count": 39,
   "metadata": {
    "collapsed": false
   },
   "outputs": [],
   "source": [
    "def convert_LEDA(fname):\n",
    "    nodes = []\n",
    "    edges = []\n",
    "    nb_nodes = 0\n",
    "    nb_edges = 0\n",
    "    with open(input_folder+patch_folder +fname+'.gml','r') as to_read:\n",
    "        source = -1\n",
    "        for line in to_read:\n",
    "            splited_line = line.split(' ')\n",
    "            if 'id' in splited_line:\n",
    "                nodes.append(int(splited_line[5]))\n",
    "                nb_nodes +=1\n",
    "            if 'source' in splited_line:\n",
    "                source = int(splited_line[5])\n",
    "            if 'target' in splited_line:\n",
    "                edges.append((int(splited_line[5]),source))\n",
    "                nb_edges +=1\n",
    "    leda_fname = '{}.gw'.format(fname)\n",
    "    leda_file = open(output_folder+leda_fname,'w')\n",
    "    leda_file.write('#header section\\n')\n",
    "    leda_file.write('LEDA.GRAPH\\n')\n",
    "    leda_file.write('int\\n')\n",
    "    leda_file.write('int\\n')\n",
    "    leda_file.write('-2\\n')\n",
    "    leda_file.write('#nodes section\\n')\n",
    "    leda_file.write(str(nb_nodes)+'\\n')\n",
    "    for i in range(nb_nodes):\n",
    "        leda_file.write('|{{{}}}|\\n'.format(i))\n",
    "    leda_file.write('#edges section\\n')\n",
    "    leda_file.write(str(nb_edges)+'\\n')\n",
    "    for i in range(1,nb_edges+1):\n",
    "        leda_file.write('{} {} {}\\n'.format(edges[i-1][0],edges[i-1][1],0))"
   ]
  },
  {
   "cell_type": "code",
   "execution_count": 44,
   "metadata": {
    "collapsed": false
   },
   "outputs": [],
   "source": [
    "def multiple_convert_LEDA():\n",
    "    for patch_folder in ['', 'csa/', 'p5/', 'all/']:\n",
    "        files = os.listdir(input_folder+patch_folder)\n",
    "        for file in files : \n",
    "            if not '.gml' in file:\n",
    "                continue\n",
    "            if not os.path.isfile('../Data/Yaveroglu_files/%s.ndump2' % file.split('.')[0]):\n",
    "                continue\n",
    "            convert_LEDA(file.split('.')[0])"
   ]
  },
  {
   "cell_type": "code",
   "execution_count": 45,
   "metadata": {
    "collapsed": false
   },
   "outputs": [],
   "source": [
    "multiple_convert_LEDA()"
   ]
  },
  {
   "cell_type": "code",
   "execution_count": 18,
   "metadata": {
    "collapsed": true
   },
   "outputs": [],
   "source": [
    "input_folder = '../Data/positions_per_alters/'"
   ]
  },
  {
   "cell_type": "code",
   "execution_count": 19,
   "metadata": {
    "collapsed": true
   },
   "outputs": [],
   "source": [
    "def convert_ndump2(fname):\n",
    "    ndump2_fname = '{}.ndump2'.format(fname)\n",
    "    with open(output_folder+ndump2_fname,'w') as to_write:\n",
    "        csv_w = csv.writer(to_write, delimiter=' ')\n",
    "        with open(input_folder +fname+'.csv','r') as to_read:\n",
    "            csv_r = csv.reader(to_read, delimiter=';')\n",
    "            for line in csv_r:\n",
    "                csv_w.writerow(line)    "
   ]
  },
  {
   "cell_type": "code",
   "execution_count": 20,
   "metadata": {
    "collapsed": false
   },
   "outputs": [],
   "source": [
    "convert_ndump2(fname)"
   ]
  },
  {
   "cell_type": "code",
   "execution_count": 21,
   "metadata": {
    "collapsed": true
   },
   "outputs": [],
   "source": [
    "def multiple_convert_ndump2():\n",
    "    files = os.listdir(input_folder)\n",
    "    for file in files:\n",
    "        convert_ndump2(file.split('.')[0])"
   ]
  },
  {
   "cell_type": "code",
   "execution_count": 22,
   "metadata": {
    "collapsed": false
   },
   "outputs": [],
   "source": [
    "multiple_convert_ndump2()"
   ]
  },
  {
   "cell_type": "code",
   "execution_count": null,
   "metadata": {
    "collapsed": true
   },
   "outputs": [],
   "source": []
  }
 ],
 "metadata": {
  "kernelspec": {
   "display_name": "Python 3",
   "language": "python",
   "name": "python3"
  },
  "language_info": {
   "codemirror_mode": {
    "name": "ipython",
    "version": 3
   },
   "file_extension": ".py",
   "mimetype": "text/x-python",
   "name": "python",
   "nbconvert_exporter": "python",
   "pygments_lexer": "ipython3",
   "version": "3.4.3"
  }
 },
 "nbformat": 4,
 "nbformat_minor": 2
}
