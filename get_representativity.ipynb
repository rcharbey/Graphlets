{
 "cells": [
  {
   "cell_type": "code",
   "execution_count": 50,
   "metadata": {
    "collapsed": true
   },
   "outputs": [],
   "source": [
    "import csv\n",
    "import numpy as np"
   ]
  },
  {
   "cell_type": "code",
   "execution_count": 51,
   "metadata": {
    "collapsed": false
   },
   "outputs": [],
   "source": [
    "def read_and_rewrite(data_from):\n",
    "    indics_per_ego = {}\n",
    "    \n",
    "    with open('../Data/%s.csv' % data_from, 'r') as to_read:\n",
    "        csv_r = csv.reader(to_read, delimiter = ';')\n",
    "        list_indics = csv_r.next()[1:]\n",
    "        values_per_indic = {indic : [] for indic in list_indics}\n",
    "        for line in csv_r:\n",
    "            indics_per_ego[line[0]] = {}\n",
    "            for i in range(len(list_indics)):\n",
    "                this_indic_value = float(line[i+1])\n",
    "                indics_per_ego[line[0]][list_indics[i]] = this_indic_value\n",
    "                values_per_indic[list_indics[i]].append(this_indic_value)\n",
    "        \n",
    "    average_indics = {indic : np.average(values_per_indic[indic]) for indic in list_indics}\n",
    "\n",
    "    with open('../Data/%s_normalized.csv' % data_from, 'w') as to_write:\n",
    "        csv_w = csv.writer(to_write, delimiter = ';')\n",
    "        en_tete = ['ego'] + list_indics\n",
    "        csv_w.writerow(en_tete)\n",
    "        \n",
    "        for ego in indics_per_ego:\n",
    "            row = [ego] + [indics_per_ego[ego][indic]/float(average_indics[indic]) for indic in list_indics]\n",
    "            csv_w.writerow(row)"
   ]
  },
  {
   "cell_type": "code",
   "execution_count": 52,
   "metadata": {
    "collapsed": false
   },
   "outputs": [],
   "source": [
    "def calcul_representativity_global(matrix, list_indics):\n",
    "    \n",
    "    matrix_2 = [[float(x) for x in matrix[ego]] for ego in matrix]\n",
    "    #print matrix_2\n",
    "    \n",
    "    sum_indics = [sum([ego[i] for ego in matrix_2]) for i in range(len(matrix_2[0]))]\n",
    "    sum_egos = [sum(ego) for ego in matrix_2]\n",
    "    \n",
    "    sum_all = sum(sum_egos)\n",
    "    global_repr = [sum_indics[i]/float(sum_all) for i in range(len(sum_indics))]\n",
    "     \n",
    "    return global_repr\n",
    "\n",
    "def calcul_representativity_local(patterns_list):\n",
    "    total_pat = sum(patterns_list)\n",
    "    return [x/float(total_pat) for x in patterns_list]"
   ]
  },
  {
   "cell_type": "code",
   "execution_count": 59,
   "metadata": {
    "collapsed": false
   },
   "outputs": [],
   "source": [
    "def read_and_rewrite_repr(data_from):\n",
    "    indics_per_ego, local_repr_per_ego = {}, {}\n",
    "    \n",
    "    with open('../Data/%s.csv' % data_from, 'r') as to_read:\n",
    "        csv_r = csv.reader(to_read, delimiter = ';')\n",
    "        list_indics = csv_r.next()[1:]\n",
    "        \n",
    "        for line in csv_r:\n",
    "            ego_name = line[0]\n",
    "            indics_per_ego[ego_name] = []\n",
    "            for i in range(len(list_indics)):\n",
    "                indics_per_ego[ego_name].append(int(line[i+1]))\n",
    "            \n",
    "            try:\n",
    "                local_repr_per_ego[ego_name] = calcul_representativity_local(indics_per_ego[ego_name])\n",
    "            except:\n",
    "                print ego_name\n",
    "        \n",
    "    global_repr = calcul_representativity_global(indics_per_ego, list_indics)\n",
    "    \n",
    "    with open('../Data/%s_normalized.csv' % data_from, 'w') as to_write:\n",
    "        csv_w = csv.writer(to_write, delimiter = ';')\n",
    "        en_tete = ['ego'] + list_indics\n",
    "        csv_w.writerow(en_tete)\n",
    "        \n",
    "        for ego in indics_per_ego:\n",
    "            row = [ego] + [local_repr_per_ego[ego][i]/global_repr[i] for i in range(len(global_repr))]\n",
    "            csv_w.writerow(row)"
   ]
  },
  {
   "cell_type": "code",
   "execution_count": 61,
   "metadata": {
    "collapsed": false
   },
   "outputs": [],
   "source": [
    "read_and_rewrite_repr('caen_k5')"
   ]
  },
  {
   "cell_type": "raw",
   "metadata": {
    "collapsed": true
   },
   "source": []
  }
 ],
 "metadata": {
  "kernelspec": {
   "display_name": "Python 2",
   "language": "python",
   "name": "python2"
  },
  "language_info": {
   "codemirror_mode": {
    "name": "ipython",
    "version": 2
   },
   "file_extension": ".py",
   "mimetype": "text/x-python",
   "name": "python",
   "nbconvert_exporter": "python",
   "pygments_lexer": "ipython2",
   "version": "2.7.6"
  }
 },
 "nbformat": 4,
 "nbformat_minor": 1
}
