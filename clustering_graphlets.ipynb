{
 "cells": [
  {
   "cell_type": "code",
   "execution_count": 1,
   "metadata": {
    "collapsed": true
   },
   "outputs": [],
   "source": [
    "import os\n",
    "import csv\n",
    "import pandas as pd\n",
    "from sklearn.decomposition import PCA\n",
    "from sklearn.cluster import KMeans\n",
    "from sklearn.cluster import AgglomerativeClustering\n",
    "from sklearn.metrics import silhouette_score\n",
    "from sklearn.metrics import silhouette_samples\n",
    "import numpy as np"
   ]
  },
  {
   "cell_type": "code",
   "execution_count": 2,
   "metadata": {
    "collapsed": false
   },
   "outputs": [],
   "source": [
    "def get_data(file_name = None):\n",
    "    if not file_name:\n",
    "        file_in = '../Data/%s.csv' % FILE_NAME\n",
    "    else:\n",
    "        file_in = file_name\n",
    "    egos, typo_vector = [], {}\n",
    "    nb_par_ego = {}\n",
    "    with open(file_in, 'r') as to_read:\n",
    "        csv_r = csv.reader(to_read, delimiter = ';')\n",
    "        \n",
    "        first_line = csv_r.next()\n",
    "        keys_typo = [int(x.split('_')[-1]) for x in first_line[1:len(first_line)]]\n",
    "        \n",
    "        for line in csv_r:\n",
    "            ego = line[0]\n",
    "            if ego in egos:\n",
    "                ego = ego + '_%s' % (nb_par_ego.get(ego, 0) + 1)\n",
    "                nb_par_ego[ego] = 1 + nb_par_ego.get(ego, 0)\n",
    "            egos.append(ego)\n",
    "            typo_vector[ego] = {int(keys_typo[i]) : float(line[i+1]) for i in range(len(keys_typo))}\n",
    "                \n",
    "    return egos, typo_vector, keys_typo\n",
    "\n",
    "\n",
    "def myPCA(df):\n",
    "    \n",
    "    # PCA\n",
    "    pca = PCA(n_components = 'mle')\n",
    "    pca_res = pca.fit_transform(df.values)\n",
    "    \n",
    "    variance_ratio = pca.explained_variance_ratio_\n",
    "    components = pca.components_\n",
    "\n",
    "    i = 0\n",
    "    with open('%s/axes_pca.csv' % MAIN_DIR, 'w') as to_read:\n",
    "        csv_w = csv.writer(to_read, delimiter = ';')\n",
    "        for axe in components:\n",
    "            csv_w.writerow([round(100*variance_ratio[i], 1)] + [round(x, 2) for x in axe])\n",
    "            i += 1\n",
    "            \n",
    "    print components\n",
    "\n",
    "    return pd.DataFrame(components.T, index= range(10,31))\n",
    "\n",
    "\n",
    "def graphlets_clusters(data):\n",
    "    for k_value in range(4,7):\n",
    "        smax = 0\n",
    "        clusteringmax = []\n",
    "        for j in range(100):\n",
    "            kmeans = KMeans(n_clusters = k_value)\n",
    "            kmeans.fit(data)\n",
    "            s = silhouette_score(data, kmeans.labels_)\n",
    "            if s > smax:\n",
    "                smax = s\n",
    "                clusteringmax = kmeans.labels_\n",
    "        print smax\n",
    "        for label in range(k_value):\n",
    "            for i in range(10,31):\n",
    "                if clusteringmax[i-10] == label:\n",
    "                    print '\\motif{%s}' % (i),\n",
    "            if label < k_value -1:\n",
    "                print ' - ',\n",
    "        print\n",
    "        #print kmeans.labels_\n",
    "        #print type(kmeans.labels_)\n",
    "        #print smax\n",
    "        #print clusteringmax"
   ]
  },
  {
   "cell_type": "code",
   "execution_count": 33,
   "metadata": {
    "collapsed": false
   },
   "outputs": [
    {
     "name": "stdout",
     "output_type": "stream",
     "text": [
      "../Results/facebook_k5\n",
      "0.281095047459\n",
      "\\motif{11} \\motif{15}  -  \\motif{16} \\motif{17} \\motif{21} \\motif{22} \\motif{26}  -  \\motif{18} \\motif{19} \\motif{20} \\motif{23} \\motif{24} \\motif{25} \\motif{27} \\motif{28} \\motif{29} \\motif{30}  -  \\motif{10} \\motif{12} \\motif{13} \\motif{14}\n",
      "0.264982552532\n",
      "\\motif{16} \\motif{17} \\motif{21} \\motif{22} \\motif{26}  -  \\motif{14} \\motif{18} \\motif{19} \\motif{20}  -  \\motif{23} \\motif{24} \\motif{25} \\motif{27} \\motif{28} \\motif{29} \\motif{30}  -  \\motif{11} \\motif{15}  -  \\motif{10} \\motif{12} \\motif{13}\n",
      "0.284455492635\n",
      "\\motif{14} \\motif{18} \\motif{19} \\motif{20}  -  \\motif{11} \\motif{15}  -  \\motif{23} \\motif{24} \\motif{25} \\motif{27} \\motif{28} \\motif{29} \\motif{30}  -  \\motif{16} \\motif{17} \\motif{21} \\motif{22} \\motif{26}  -  \\motif{10} \\motif{13}  -  \\motif{12}\n"
     ]
    }
   ],
   "source": [
    "corpus = 'facebook'\n",
    "k = 5\n",
    "\n",
    "FILE_NAME = '%s_k%s' % (corpus, k)\n",
    "MAIN_DIR = '../Results/%s' % FILE_NAME\n",
    "print MAIN_DIR\n",
    "\n",
    "if not FILE_NAME in os.listdir('../Results/'):\n",
    "    os.mkdir(MAIN_DIR)\n",
    "\n",
    "EGOS, TYPO_VECTOR, KEYS_TYPO = get_data()\n",
    "data = TYPO_VECTOR    \n",
    "    \n",
    "new_data = {}\n",
    "for ego in data:\n",
    "    new_data[ego] = {graphlet : data[ego][graphlet] if data[ego][graphlet] < 1 else \\\n",
    "                         2-1/data[ego][graphlet] for graphlet in KEYS_TYPO}    \n",
    "    \n",
    "DATA_CALC = pd.DataFrame.from_dict(new_data, orient = 'index')\n",
    "graphlets_clusters(DATA_CALC.T)\n",
    "#graphlets_clusters(pd.DataFrame.from_dict(data, orient = 'index').T)"
   ]
  },
  {
   "cell_type": "code",
   "execution_count": null,
   "metadata": {
    "collapsed": true
   },
   "outputs": [],
   "source": [
    "../Results/facebook_k5\n",
    "0.281095047459\n",
    "\\motif{18} \\motif{19} \\motif{20} \\motif{23} \\motif{24} \\motif{25} \\motif{27} \\motif{28} \\motif{29} \\motif{30}  -  \\motif{10} \\motif{12} \\motif{13} \\motif{14}  -  \\motif{16} \\motif{17} \\motif{21} \\motif{22} \\motif{26}  -  \\motif{11} \\motif{15}  - \n",
    "0.264982552532\n",
    "\\motif{16} \\motif{17} \\motif{21} \\motif{22} \\motif{26}  -  \\motif{10} \\motif{12} \\motif{13}  -  \\motif{23} \\motif{24} \\motif{25} \\motif{27} \\motif{28} \\motif{29} \\motif{30}  -  \\motif{11} \\motif{15}  -  \\motif{14} \\motif{18} \\motif{19} \\motif{20}  - \n",
    "0.266193995491\n",
    "\\motif{11} \\motif{15}  -  \\motif{24} \\motif{25} \\motif{27} \\motif{28} \\motif{29}  -  \\motif{16} \\motif{17} \\motif{21} \\motif{22} \\motif{26}  -  \\motif{10} \\motif{12} \\motif{13} \\motif{14}  -  \\motif{30}  -  \\motif{18} \\motif{19} \\motif{20} \\motif{23}  - \n"
   ]
  }
 ],
 "metadata": {
  "kernelspec": {
   "display_name": "Python 2",
   "language": "python",
   "name": "python2"
  },
  "language_info": {
   "codemirror_mode": {
    "name": "ipython",
    "version": 2
   },
   "file_extension": ".py",
   "mimetype": "text/x-python",
   "name": "python",
   "nbconvert_exporter": "python",
   "pygments_lexer": "ipython2",
   "version": "2.7.6"
  }
 },
 "nbformat": 4,
 "nbformat_minor": 1
}
